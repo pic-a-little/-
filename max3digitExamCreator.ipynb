{
 "cells": [
  {
   "cell_type": "markdown",
   "metadata": {},
   "source": [
    "# 和・差 3桁問題 自動作成用プログラム"
   ]
  },
  {
   "cell_type": "markdown",
   "metadata": {},
   "source": [
    "## 問題数設定とサブルーチン"
   ]
  },
  {
   "cell_type": "code",
   "execution_count": 1,
   "metadata": {},
   "outputs": [
    {
     "name": "stdout",
     "output_type": "stream",
     "text": [
      "2桁 ー 1桁 の計算問題  1024問。  必ず繰り上がり・下がりする問題\n"
     ]
    }
   ],
   "source": [
    "import random\n",
    "\n",
    "\n",
    "MAX_Q = 1024 #問題数\n",
    "DigitA = 2 #１項目の桁数\n",
    "DigitB = 1 #２項目の桁数\n",
    "Operator = 'ー' # ＋, ー, ＋ー, ＊　＜全角指定(/のみ半角)\n",
    "\n",
    "RateOfMinus = 50 #和差混合問題の差の割合(0−100%)\n",
    "ForceMupMdown = True #繰り上がり，下がり　場合による：0 ，必ず：1\n",
    "\n",
    "\n",
    "\n",
    "FILE_NAME = \"{}桁 {} {}桁 の計算問題  {}問。\".format(DigitA,Operator,DigitB,MAX_Q,)\n",
    "\n",
    "if ForceMupMdown == True:\n",
    "    FILE_NAME += \"  必ず繰り上がり・下がりする問題\"\n",
    "\n",
    "if Operator == '＋ー':\n",
    "    FILE_NAME += \"  引き算の割合：{}%\".format(RateOfMinus)\n",
    "    \n",
    "print(FILE_NAME)\n",
    "\n",
    "def deg3(): # ３桁の数値を返す\n",
    "    return random.randint(1,9) * 100 + random.randint(0,9) * 10 + random.randint(0,9)\n",
    "\n",
    "def deg2(): # 2桁の数値を返す\n",
    "    return random.randint(1,9) * 10 + random.randint(0,9)\n",
    "\n",
    "def deg1(): # 1桁の数値を返す\n",
    "    return random.randint(1,9)\n",
    "\n",
    "def randDeg(x): # なん桁の数字にするか指定して数値を返す\n",
    "    if x==1:\n",
    "        return deg1()\n",
    "    elif x==2:\n",
    "        return deg2()\n",
    "    else:\n",
    "        return deg3()\n",
    "\n",
    "def setNumByRate(): #ケタ数を設定する確立にしたがって数値を設定する\n",
    "    i  =  random.randint(0,99)\n",
    "    if i < 90:\n",
    "        return randDeg(3)\n",
    "    elif i < 100:\n",
    "        return randDeg(2)\n",
    "    else:\n",
    "        return randDeg(1)\n",
    "\n",
    "def randPlusMinus(): # ランダムに和差算術記号を指定する\n",
    "    i = random.randint(0,100)\n",
    "    if i<RateOfMinus:\n",
    "        return '-'\n",
    "    else:\n",
    "        return '+'\n",
    "\n",
    "def setOperator(ope):#ユーザ指定のOperatorから計算式に算術子をセットする\n",
    "    if ope ==  '＋ー' :\n",
    "        return randPlusMinus()\n",
    "    elif ope ==  '＋' :\n",
    "        return '+'\n",
    "    elif ope == 'ー':\n",
    "        return '-'\n",
    "    else:\n",
    "        return '×'\n",
    "        \n",
    "\n",
    "def checkForceMupMdown(a, op, b):\n",
    "    if  ForceMupMdown == False:\n",
    "        return True\n",
    "    elif op == '+':\n",
    "        if a%10 + b%10 >9 or a%100 + b%100 >99:\n",
    "            return True\n",
    "        else:\n",
    "            return False\n",
    "    elif op == '-':\n",
    "        if (a%10 < b%10 and a-b>=0) or (a%100 < b%100 and a-b>=0):\n",
    "            return True\n",
    "        else:\n",
    "            return False\n",
    "    else:\n",
    "        return True\n",
    "    \n",
    "def calcAns(a, op, b): #足し算 引き算の答えを出す\n",
    "    ans = 0\n",
    "    if op == '-':\n",
    "        ans = a - b\n",
    "    elif op == '+':\n",
    "        ans = a + b\n",
    "    else:\n",
    "        ans = a * b\n",
    "        \n",
    "    if ans > 1000: #4桁になる問題は解なしとする\n",
    "        ans = -1\n",
    "    return ans\n"
   ]
  },
  {
   "cell_type": "markdown",
   "metadata": {},
   "source": [
    "## 問題の設問"
   ]
  },
  {
   "cell_type": "code",
   "execution_count": 2,
   "metadata": {},
   "outputs": [],
   "source": [
    "\n",
    "i = 0\n",
    "\n",
    "fileQ = \"{}.txt\".format(FILE_NAME)\n",
    "fileA = \"{}_答え.csv\".format(FILE_NAME)\n",
    "\n",
    "with open(fileQ, 'w') as fq:\n",
    "    with open(fileA, 'w') as fa:\n",
    "        while i < MAX_Q:\n",
    "            op = setOperator(Operator)\n",
    "\n",
    "            while True:\n",
    "                a = randDeg(DigitA)\n",
    "                b = randDeg(DigitB)\n",
    "\n",
    "                if checkForceMupMdown(a, op, b) == True :\n",
    "                    break\n",
    "            ans = calcAns(a, op, b) \n",
    "            if  ans >= 0 :\n",
    "                print(\"{: >3}.   {: >3} {} {: >3}  = \\n\".format(i+1,a,op,b), file=fq)\n",
    "                print(\"{: >3}.   {: >3} {} {: >3}  = ,{: >3}\".format(i+1,a,op,b,ans), file=fa)\n",
    "\n",
    "                i += 1\n",
    "            else:\n",
    "                ans = 0\n"
   ]
  },
  {
   "cell_type": "code",
   "execution_count": null,
   "metadata": {},
   "outputs": [],
   "source": []
  }
 ],
 "metadata": {
  "kernelspec": {
   "display_name": "Python 3",
   "language": "python",
   "name": "python3"
  },
  "language_info": {
   "codemirror_mode": {
    "name": "ipython",
    "version": 3
   },
   "file_extension": ".py",
   "mimetype": "text/x-python",
   "name": "python",
   "nbconvert_exporter": "python",
   "pygments_lexer": "ipython3",
   "version": "3.7.2"
  }
 },
 "nbformat": 4,
 "nbformat_minor": 2
}
